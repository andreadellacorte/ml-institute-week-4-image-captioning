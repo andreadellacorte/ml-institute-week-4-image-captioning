{
 "cells": [
  {
   "cell_type": "markdown",
   "id": "2a7a7201",
   "metadata": {},
   "source": [
    "# Basic Python Functionality Demo\n",
    "\n",
    "This notebook demonstrates several fundamental Python programming concepts including importing libraries, defining functions, calling functions, and handling errors."
   ]
  },
  {
   "cell_type": "markdown",
   "id": "7e626fbd",
   "metadata": {},
   "source": [
    "## Import Required Libraries\n",
    "\n",
    "Import any necessary libraries such as math or os."
   ]
  },
  {
   "cell_type": "code",
   "execution_count": null,
   "id": "862f2f34",
   "metadata": {},
   "outputs": [],
   "source": [
    "# Import the necessary Python libraries\n",
    "import math\n",
    "import os\n",
    "import datetime\n",
    "import random\n",
    "\n",
    "# Display the Python version\n",
    "import sys\n",
    "print(f\"Python version: {sys.version}\")"
   ]
  },
  {
   "cell_type": "markdown",
   "id": "05eb54ee",
   "metadata": {},
   "source": [
    "## Define a Function\n",
    "\n",
    "Write a Python function that performs a specific task, such as calculating the square of a number."
   ]
  },
  {
   "cell_type": "code",
   "execution_count": null,
   "id": "336ee0e9",
   "metadata": {},
   "outputs": [],
   "source": [
    "def calculate_power(base, exponent=2):\n",
    "    \"\"\"\n",
    "    Calculate the power of a number.\n",
    "    \n",
    "    Args:\n",
    "        base (float): The base number\n",
    "        exponent (float, optional): The exponent. Defaults to 2 (square).\n",
    "        \n",
    "    Returns:\n",
    "        float: The result of base raised to the exponent\n",
    "    \"\"\"\n",
    "    return math.pow(base, exponent)\n",
    "\n",
    "# Also define a function that converts temperature\n",
    "def convert_temperature(value, from_scale, to_scale):\n",
    "    \"\"\"\n",
    "    Convert temperature between Celsius, Fahrenheit, and Kelvin.\n",
    "    \n",
    "    Args:\n",
    "        value (float): Temperature value to convert\n",
    "        from_scale (str): Scale to convert from ('C', 'F', or 'K')\n",
    "        to_scale (str): Scale to convert to ('C', 'F', or 'K')\n",
    "        \n",
    "    Returns:\n",
    "        float: Converted temperature value\n",
    "    \"\"\"\n",
    "    # Standardize inputs\n",
    "    from_scale = from_scale.upper()\n",
    "    to_scale = to_scale.upper()\n",
    "    \n",
    "    # First convert to Celsius as intermediate step\n",
    "    if from_scale == 'C':\n",
    "        celsius = value\n",
    "    elif from_scale == 'F':\n",
    "        celsius = (value - 32) * 5/9\n",
    "    elif from_scale == 'K':\n",
    "        celsius = value - 273.15\n",
    "    else:\n",
    "        raise ValueError(\"from_scale must be 'C', 'F', or 'K'\")\n",
    "    \n",
    "    # Then convert from Celsius to target scale\n",
    "    if to_scale == 'C':\n",
    "        return celsius\n",
    "    elif to_scale == 'F':\n",
    "        return (celsius * 9/5) + 32\n",
    "    elif to_scale == 'K':\n",
    "        return celsius + 273.15\n",
    "    else:\n",
    "        raise ValueError(\"to_scale must be 'C', 'F', or 'K'\")"
   ]
  },
  {
   "cell_type": "markdown",
   "id": "bf832f2d",
   "metadata": {},
   "source": [
    "## Call the Function\n",
    "\n",
    "Call the defined function with example inputs and display the results."
   ]
  },
  {
   "cell_type": "code",
   "execution_count": null,
   "id": "64cf78a1",
   "metadata": {},
   "outputs": [],
   "source": [
    "# Test the power calculation function with various inputs\n",
    "print(f\"2² = {calculate_power(2)}\")\n",
    "print(f\"3³ = {calculate_power(3, 3)}\")\n",
    "print(f\"10^5 = {calculate_power(10, 5)}\")\n",
    "\n",
    "# Test with fractional values\n",
    "print(f\"1.5² = {calculate_power(1.5)}\")\n",
    "print(f\"2.5^3.5 = {calculate_power(2.5, 3.5)}\")\n",
    "\n",
    "# Test the temperature conversion function\n",
    "temp_celsius = 25\n",
    "temp_fahrenheit = convert_temperature(temp_celsius, 'C', 'F')\n",
    "temp_kelvin = convert_temperature(temp_celsius, 'C', 'K')\n",
    "\n",
    "print(f\"\\nTemperature conversions for {temp_celsius}°C:\")\n",
    "print(f\"Fahrenheit: {temp_fahrenheit:.2f}°F\")\n",
    "print(f\"Kelvin: {temp_kelvin:.2f}K\")\n",
    "\n",
    "# Convert back to verify\n",
    "print(f\"\\nConverting back to Celsius:\")\n",
    "print(f\"{temp_fahrenheit}°F = {convert_temperature(temp_fahrenheit, 'F', 'C'):.2f}°C\")\n",
    "print(f\"{temp_kelvin}K = {convert_temperature(temp_kelvin, 'K', 'C'):.2f}°C\")"
   ]
  },
  {
   "cell_type": "markdown",
   "id": "45baab7b",
   "metadata": {},
   "source": [
    "## Handle Errors\n",
    "\n",
    "Demonstrate error handling using try-except blocks for invalid inputs."
   ]
  },
  {
   "cell_type": "code",
   "execution_count": null,
   "id": "0df9e2f3",
   "metadata": {},
   "outputs": [],
   "source": [
    "# Demonstrate error handling with the power function\n",
    "test_values = [2, 0, -3, \"abc\", None]\n",
    "\n",
    "for val in test_values:\n",
    "    try:\n",
    "        result = calculate_power(val)\n",
    "        print(f\"The square of {val} is {result}\")\n",
    "    except TypeError as e:\n",
    "        print(f\"TypeError occurred with input {val}: {e}\")\n",
    "    except Exception as e:\n",
    "        print(f\"An unexpected error occurred with input {val}: {e}\")\n",
    "\n",
    "# Demonstrate error handling with the temperature conversion function\n",
    "test_conversions = [\n",
    "    (20, 'C', 'F'),     # Valid\n",
    "    (98.6, 'F', 'C'),   # Valid\n",
    "    (0, 'K', 'C'),      # Valid\n",
    "    (25, 'X', 'C'),     # Invalid from_scale\n",
    "    (25, 'C', 'Y'),     # Invalid to_scale\n",
    "    (\"hot\", 'C', 'F')   # Invalid value type\n",
    "]\n",
    "\n",
    "for temp, from_scale, to_scale in test_conversions:\n",
    "    try:\n",
    "        result = convert_temperature(temp, from_scale, to_scale)\n",
    "        print(f\"{temp}°{from_scale} = {result:.2f}°{to_scale}\")\n",
    "    except ValueError as e:\n",
    "        print(f\"ValueError: {e}\")\n",
    "    except TypeError as e:\n",
    "        print(f\"TypeError: Cannot convert '{temp}' from {from_scale} to {to_scale}: {e}\")\n",
    "    except Exception as e:\n",
    "        print(f\"An unexpected error occurred: {e}\")"
   ]
  },
  {
   "cell_type": "markdown",
   "id": "d75136ec",
   "metadata": {},
   "source": [
    "## Summary\n",
    "\n",
    "In this notebook, we've demonstrated:\n",
    "\n",
    "1. Importing standard Python libraries\n",
    "2. Defining functions with default parameters and docstrings\n",
    "3. Calling functions with various parameters\n",
    "4. Implementing proper error handling using try-except blocks\n",
    "5. Creating a practical temperature conversion utility"
   ]
  }
 ],
 "metadata": {
  "language_info": {
   "name": "python"
  }
 },
 "nbformat": 4,
 "nbformat_minor": 5
}
